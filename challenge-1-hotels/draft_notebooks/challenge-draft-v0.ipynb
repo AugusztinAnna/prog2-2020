{
 "cells": [
  {
   "cell_type": "markdown",
   "metadata": {},
   "source": [
    "## Hotels Challenge I.\n",
    "\n",
    "given a database of hotels, and a set of input coordinates, for each coordinate, find the hotel closest to it"
   ]
  },
  {
   "cell_type": "markdown",
   "metadata": {},
   "source": [
    "a solution is represented by a directory\n",
    "\n",
    "the directory must contain one [yaml](https://en.wikipedia.org/wiki/YAML) file:\n",
    "`commands.yaml`\n",
    "\n",
    "and in the file, on the top level, 4 keys can have values: `setup-env-command`, `etl-command`, `process-command`\n",
    "and `cleanup-command`. \n",
    "\n",
    "- `setup-env-command` sets up the environment where the other commans can run. it can assume the presence of python3.7 and pip\n",
    "- `etl-command` runs, when the data is already accessible by the solution, in this case in a `hotel_table.csv` in the root of the solution. the etl command can do whatever it wants with the data to prepare it for the process command\n",
    "- when `process-command` runs, an additional `inputs.json` file is also present in the solution root. your task is to make this command write out the answers to the queries found in inputs into an `outputs.json` file in the root of the solution, as fast as possible. this is the only mandatory value\n",
    "- `cleanup-command` runs after everything is done\n",
    "\n",
    "\n",
    "solutions will be avaluated based on:\n",
    "- scaling with size of input\n",
    "- scaling with data size\n",
    "\n",
    "there are 4 levels for evaluation:\n",
    "- 10k hotels - 1, 2, 5, 10 queries\n",
    "- 5 queries - 10k, 50k, 100k, 200k hotels\n",
    "- 50k hotels - 1, 10, 100, 1000 queries\n",
    "- 500k hotels - 1, 10, 100, 1000 queries"
   ]
  },
  {
   "cell_type": "markdown",
   "metadata": {},
   "source": [
    "### install package for data downloading and evaluation"
   ]
  },
  {
   "cell_type": "code",
   "execution_count": null,
   "metadata": {},
   "outputs": [],
   "source": [
    "!pip install --upgrade git+https://github.com/endreMBorza/jkg_evaluators"
   ]
  },
  {
   "cell_type": "code",
   "execution_count": null,
   "metadata": {},
   "outputs": [],
   "source": [
    "from jkg_evaluators.challenges.data.hotels import get_hotel_data, dump_hotel_input\n",
    "import shutil\n",
    "import os"
   ]
  },
  {
   "cell_type": "markdown",
   "metadata": {},
   "source": [
    "### download practice data"
   ]
  },
  {
   "cell_type": "code",
   "execution_count": null,
   "metadata": {},
   "outputs": [],
   "source": [
    "get_hotel_data()"
   ]
  },
  {
   "cell_type": "markdown",
   "metadata": {},
   "source": [
    "### select one and move to notebook root"
   ]
  },
  {
   "cell_type": "code",
   "execution_count": null,
   "metadata": {},
   "outputs": [],
   "source": [
    "data_size_to_copy = 10000\n",
    "shutil.copyfile(os.path.join(\"data\", \n",
    "                             f\"{data_size_to_copy}.csv\"), \n",
    "                \"data.csv\")"
   ]
  },
  {
   "cell_type": "markdown",
   "metadata": {},
   "source": [
    "### generate some inputs"
   ]
  },
  {
   "cell_type": "code",
   "execution_count": null,
   "metadata": {},
   "outputs": [],
   "source": [
    "dump_hotel_input(size=10, path=\"inputs.json\")"
   ]
  },
  {
   "cell_type": "markdown",
   "metadata": {},
   "source": [
    "## base solution ETL"
   ]
  },
  {
   "cell_type": "code",
   "execution_count": null,
   "metadata": {},
   "outputs": [],
   "source": [
    "%%time\n",
    "import pandas as pd\n",
    "\n",
    "data_file_path = \"data.csv\"\n",
    "\n",
    "df = pd.read_csv(data_file_path)\n",
    "\n",
    "df.loc[:, ['lon','lat','name']].to_csv('filtered.csv',index=None)"
   ]
  },
  {
   "cell_type": "markdown",
   "metadata": {},
   "source": [
    "## base solution process"
   ]
  },
  {
   "cell_type": "code",
   "execution_count": null,
   "metadata": {},
   "outputs": [],
   "source": [
    "%%time\n",
    "import pandas as pd\n",
    "import numpy as np\n",
    "import json\n",
    "\n",
    "input_locations = json.load(open('inputs.json', 'r'))\n",
    "\n",
    "df = pd.read_csv('filtered.csv')\n",
    "\n",
    "answers = []\n",
    "\n",
    "for place in input_locations:\n",
    "    min_distance = np.inf\n",
    "    closest_place = {}\n",
    "    for idx,row in df.iterrows():\n",
    "        distance = ((place['lon']-row['lon']) ** 2 + (place['lat']-row['lat']) ** 2) ** 0.5\n",
    "        if distance < min_distance:\n",
    "            min_distance = distance\n",
    "            closest_place = row[['lon','lat','name']].to_dict()\n",
    "    answers.append(closest_place.copy())\n",
    "\n",
    "json.dump(answers,open('output.json','w'))"
   ]
  }
 ],
 "metadata": {
  "kernelspec": {
   "display_name": "Python 3",
   "language": "python",
   "name": "python3"
  },
  "language_info": {
   "codemirror_mode": {
    "name": "ipython",
    "version": 3
   },
   "file_extension": ".py",
   "mimetype": "text/x-python",
   "name": "python",
   "nbconvert_exporter": "python",
   "pygments_lexer": "ipython3",
   "version": "3.7.4"
  }
 },
 "nbformat": 4,
 "nbformat_minor": 4
}
