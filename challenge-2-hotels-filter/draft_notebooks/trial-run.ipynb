{
 "cells": [
  {
   "cell_type": "markdown",
   "metadata": {},
   "source": [
    "# Evaluate and compare solutions here"
   ]
  },
  {
   "cell_type": "code",
   "execution_count": 36,
   "metadata": {},
   "outputs": [
    {
     "name": "stdout",
     "output_type": "stream",
     "text": [
      "Processing /home/borza/pcloud/knowledge/my_packages/jkg_evaluators\n",
      "  Installing build dependencies ... \u001b[?25ldone\n",
      "\u001b[33m  Missing build requirements in pyproject.toml for file:///home/borza/pcloud/knowledge/my_packages/jkg_evaluators.\u001b[0m\n",
      "\u001b[33m  The project does not specify a build backend, and pip cannot fall back to setuptools without 'wheel'.\u001b[0m\n",
      "\u001b[?25hRequirement already satisfied, skipping upgrade: matplotlib in /home/borza/my_venv/lib/python3.7/site-packages (from jkg-evaluators==0.0.2) (3.2.0)\n",
      "Requirement already satisfied, skipping upgrade: unidecode in /home/borza/my_venv/lib/python3.7/site-packages (from jkg-evaluators==0.0.2) (1.1.1)\n",
      "Requirement already satisfied, skipping upgrade: pandas in /home/borza/my_venv/lib/python3.7/site-packages (from jkg-evaluators==0.0.2) (1.0.1)\n",
      "Requirement already satisfied, skipping upgrade: pyyaml in /home/borza/my_venv/lib/python3.7/site-packages (from jkg-evaluators==0.0.2) (5.3)\n",
      "Requirement already satisfied, skipping upgrade: kiwisolver>=1.0.1 in /home/borza/my_venv/lib/python3.7/site-packages (from matplotlib->jkg-evaluators==0.0.2) (1.1.0)\n",
      "Requirement already satisfied, skipping upgrade: numpy>=1.11 in /home/borza/my_venv/lib/python3.7/site-packages (from matplotlib->jkg-evaluators==0.0.2) (1.18.1)\n",
      "Requirement already satisfied, skipping upgrade: python-dateutil>=2.1 in /home/borza/my_venv/lib/python3.7/site-packages (from matplotlib->jkg-evaluators==0.0.2) (2.8.1)\n",
      "Requirement already satisfied, skipping upgrade: pyparsing!=2.0.4,!=2.1.2,!=2.1.6,>=2.0.1 in /home/borza/my_venv/lib/python3.7/site-packages (from matplotlib->jkg-evaluators==0.0.2) (2.4.6)\n",
      "Requirement already satisfied, skipping upgrade: cycler>=0.10 in /home/borza/my_venv/lib/python3.7/site-packages (from matplotlib->jkg-evaluators==0.0.2) (0.10.0)\n",
      "Requirement already satisfied, skipping upgrade: pytz>=2017.2 in /home/borza/my_venv/lib/python3.7/site-packages (from pandas->jkg-evaluators==0.0.2) (2019.3)\n",
      "Requirement already satisfied, skipping upgrade: setuptools in /home/borza/my_venv/lib/python3.7/site-packages (from kiwisolver>=1.0.1->matplotlib->jkg-evaluators==0.0.2) (40.8.0)\n",
      "Requirement already satisfied, skipping upgrade: six>=1.5 in /home/borza/my_venv/lib/python3.7/site-packages (from python-dateutil>=2.1->matplotlib->jkg-evaluators==0.0.2) (1.14.0)\n",
      "Building wheels for collected packages: jkg-evaluators\n",
      "  Running setup.py bdist_wheel for jkg-evaluators ... \u001b[?25ldone\n",
      "\u001b[?25h  Stored in directory: /tmp/pip-ephem-wheel-cache-wqj0v_jg/wheels/61/ab/b3/201874c0a23558d6d5a2f441ed40a57cdffd92c9b5f7db9bb1\n",
      "Successfully built jkg-evaluators\n",
      "Installing collected packages: jkg-evaluators\n",
      "  Found existing installation: jkg-evaluators 0.0.2\n",
      "    Uninstalling jkg-evaluators-0.0.2:\n",
      "      Successfully uninstalled jkg-evaluators-0.0.2\n",
      "Successfully installed jkg-evaluators-0.0.2\n"
     ]
    }
   ],
   "source": [
    "!pip install --upgrade /home/borza/pcloud/knowledge/my_packages/jkg_evaluators/"
   ]
  },
  {
   "cell_type": "code",
   "execution_count": 1,
   "metadata": {},
   "outputs": [],
   "source": [
    "from jkg_evaluators.challenges.data.hotels import HotelFilterSolutionComparator"
   ]
  },
  {
   "cell_type": "code",
   "execution_count": 2,
   "metadata": {},
   "outputs": [],
   "source": [
    "levels = [\n",
    "    {\"data_sizes\": [10000],\n",
    "     \"input_sizes\": [1, 2, 5, 10]},\n",
    "    {\"data_sizes\": [10000, 50000, 100000, 200000],\n",
    "     \"input_sizes\": [5]},\n",
    "    {\"data_sizes\": [50000],\n",
    "     \"input_sizes\": [1, 10, 100, 1000]},\n",
    "    {\"data_sizes\": [500000],\n",
    "     \"input_sizes\": [1, 10, 100, 1000]}\n",
    "]"
   ]
  },
  {
   "cell_type": "code",
   "execution_count": 22,
   "metadata": {},
   "outputs": [],
   "source": [
    "sc = HotelFilterSolutionComparator(\n",
    "    solutions_to_compare=[\n",
    "        \"base_solution\"\n",
    "    ], \n",
    "    **levels[0])"
   ]
  },
  {
   "cell_type": "code",
   "execution_count": 23,
   "metadata": {},
   "outputs": [
    {
     "name": "stdout",
     "output_type": "stream",
     "text": [
      "solution: base_solution\n",
      "running setup-env-command for base_solution\n",
      "running etl-command for base_solution\n",
      "input size: 1 - data size: 10000\n",
      "running process-command for base_solution\n",
      "input size: 2 - data size: 10000\n",
      "running process-command for base_solution\n",
      "input size: 5 - data size: 10000\n",
      "running process-command for base_solution\n",
      "input size: 10 - data size: 10000\n",
      "running process-command for base_solution\n",
      "no cleanup-command for base_solution\n"
     ]
    }
   ],
   "source": [
    "sc.run_comparison()"
   ]
  },
  {
   "cell_type": "code",
   "execution_count": 15,
   "metadata": {},
   "outputs": [
    {
     "data": {
      "image/png": "[encoded data removed]",
      "text/plain": [
       "<Figure size 936x504 with 1 Axes>"
      ]
     },
     "metadata": {
      "needs_background": "light"
     },
     "output_type": "display_data"
    }
   ],
   "source": [
    "sc.plot_comparison()"
   ]
  },
  {
   "cell_type": "code",
   "execution_count": 24,
   "metadata": {},
   "outputs": [
    {
     "data": {
      "text/html": [
       "<div>\n",
       "<style scoped>\n",
       "    .dataframe tbody tr th:only-of-type {\n",
       "        vertical-align: middle;\n",
       "    }\n",
       "\n",
       "    .dataframe tbody tr th {\n",
       "        vertical-align: top;\n",
       "    }\n",
       "\n",
       "    .dataframe thead tr th {\n",
       "        text-align: left;\n",
       "    }\n",
       "\n",
       "    .dataframe thead tr:last-of-type th {\n",
       "        text-align: right;\n",
       "    }\n",
       "</style>\n",
       "<table border=\"1\" class=\"dataframe\">\n",
       "  <thead>\n",
       "    <tr>\n",
       "      <th>level_1</th>\n",
       "      <th>name</th>\n",
       "      <th>missing</th>\n",
       "    </tr>\n",
       "  </thead>\n",
       "  <tbody>\n",
       "  </tbody>\n",
       "</table>\n",
       "</div>"
      ],
      "text/plain": [
       "Empty DataFrame\n",
       "Columns: []\n",
       "Index: []"
      ]
     },
     "execution_count": 24,
     "metadata": {},
     "output_type": "execute_result"
    }
   ],
   "source": [
    "sc.output_comparison()"
   ]
  }
 ],
 "metadata": {
  "kernelspec": {
   "display_name": "Python 3",
   "language": "python",
   "name": "python3"
  },
  "language_info": {
   "codemirror_mode": {
    "name": "ipython",
    "version": 3
   },
   "file_extension": ".py",
   "mimetype": "text/x-python",
   "name": "python",
   "nbconvert_exporter": "python",
   "pygments_lexer": "ipython3",
   "version": "3.7.5"
  }
 },
 "nbformat": 4,
 "nbformat_minor": 2
}
