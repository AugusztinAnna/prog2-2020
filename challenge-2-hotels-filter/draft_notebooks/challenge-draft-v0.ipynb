{
 "cells": [
  {
   "cell_type": "markdown",
   "metadata": {},
   "source": [
    "## Hotels Challenge II.\n",
    "\n",
    "given a database of hotels, and a set of input coordinates, price ranges and star ratings, for each coordinate-pricerange-startrating combination, find the hotel closest to the coordinates with the given start rating and within the price range. if no hotel fits in the price range star rating combination, return the dict `{\"missing\": True}`"
   ]
  },
  {
   "cell_type": "markdown",
   "metadata": {},
   "source": [
    "a solution is represented the same way as in [challenge one](../../challenge-1-hotels/draft_notebooks/challenge-draft-v0.ipynb), input sizes are the same as well, outputs now must include star-rating and price as well"
   ]
  },
  {
   "cell_type": "markdown",
   "metadata": {},
   "source": [
    "### install package for data downloading and evaluation"
   ]
  },
  {
   "cell_type": "code",
   "execution_count": 1,
   "metadata": {},
   "outputs": [],
   "source": [
    "from jkg_evaluators.challenges.data.hotels import get_hotel_data, dump_hotel_filter_input\n",
    "import shutil\n",
    "import os"
   ]
  },
  {
   "cell_type": "markdown",
   "metadata": {},
   "source": [
    "### download practice data"
   ]
  },
  {
   "cell_type": "code",
   "execution_count": 5,
   "metadata": {
    "scrolled": true
   },
   "outputs": [],
   "source": [
    "get_hotel_data()"
   ]
  },
  {
   "cell_type": "markdown",
   "metadata": {},
   "source": [
    "### select one and move to notebook root"
   ]
  },
  {
   "cell_type": "code",
   "execution_count": 2,
   "metadata": {},
   "outputs": [
    {
     "data": {
      "text/plain": [
       "'data.csv'"
      ]
     },
     "execution_count": 2,
     "metadata": {},
     "output_type": "execute_result"
    }
   ],
   "source": [
    "data_size_to_copy = 10000\n",
    "shutil.copyfile(os.path.join(\"data\", \n",
    "                             f\"{data_size_to_copy}.csv\"), \n",
    "                \"data.csv\")"
   ]
  },
  {
   "cell_type": "markdown",
   "metadata": {},
   "source": [
    "### generate some inputs"
   ]
  },
  {
   "cell_type": "code",
   "execution_count": 3,
   "metadata": {},
   "outputs": [],
   "source": [
    "dump_hotel_filter_input(size=10, path=\"inputs.json\")"
   ]
  },
  {
   "cell_type": "markdown",
   "metadata": {},
   "source": [
    "## base solution ETL"
   ]
  },
  {
   "cell_type": "code",
   "execution_count": 4,
   "metadata": {},
   "outputs": [
    {
     "name": "stdout",
     "output_type": "stream",
     "text": [
      "CPU times: user 56.8 ms, sys: 8.12 ms, total: 64.9 ms\n",
      "Wall time: 64.9 ms\n"
     ]
    }
   ],
   "source": [
    "%%time\n",
    "import pandas as pd\n",
    "\n",
    "data_file_path = \"data.csv\"\n",
    "\n",
    "df = pd.read_csv(data_file_path)\n",
    "\n",
    "df.drop_duplicates().assign(\n",
    "    price=lambda _df: _df[\"current-price\"]\n",
    "    .str[1:]\n",
    "    .str.replace(\",\", \"\")\n",
    "    .astype(float)\n",
    ").loc[:, [\"lon\", \"lat\", \"name\", \"stars\", \"price\"]].to_pickle(\"filtered.pkl\")\n"
   ]
  },
  {
   "cell_type": "markdown",
   "metadata": {},
   "source": [
    "## base solution process"
   ]
  },
  {
   "cell_type": "code",
   "execution_count": 5,
   "metadata": {},
   "outputs": [
    {
     "name": "stdout",
     "output_type": "stream",
     "text": [
      "CPU times: user 1.58 s, sys: 9.88 ms, total: 1.59 s\n",
      "Wall time: 1.59 s\n"
     ]
    }
   ],
   "source": [
    "%%time\n",
    "import pandas as pd\n",
    "import numpy as np\n",
    "import json\n",
    "\n",
    "input_dicts = json.load(open(\"inputs.json\", \"r\"))\n",
    "\n",
    "df = pd.read_pickle(\"filtered.pkl\")\n",
    "\n",
    "min_distances = [np.inf] * len(input_dicts)\n",
    "\n",
    "answers = [{\"missing\": True}] * len(input_dicts)\n",
    "\n",
    "for idx, row in df.iterrows():\n",
    "\n",
    "    for input_idx, input_dict in enumerate(input_dicts):\n",
    "        if row[\"stars\"] != input_dict[\"stars\"]:\n",
    "            continue\n",
    "        if (row[\"price\"] > input_dict[\"max_price\"]) or (\n",
    "            row[\"price\"] < input_dict[\"min_price\"]\n",
    "        ):\n",
    "            continue\n",
    "        distance = (\n",
    "            (input_dict[\"lon\"] - row[\"lon\"]) ** 2\n",
    "            + (input_dict[\"lat\"] - row[\"lat\"]) ** 2\n",
    "        ) ** 0.5\n",
    "        if distance < min_distances[input_idx]:\n",
    "            min_distances[input_idx] = distance\n",
    "            answers[input_idx] = row[[\"lon\", \"lat\", \"name\", \"stars\", \"price\"]].to_dict()\n",
    "\n",
    "json.dump(answers, open(\"outputs.json\", \"w\"))\n"
   ]
  }
 ],
 "metadata": {
  "kernelspec": {
   "display_name": "Python 3",
   "language": "python",
   "name": "python3"
  },
  "language_info": {
   "codemirror_mode": {
    "name": "ipython",
    "version": 3
   },
   "file_extension": ".py",
   "mimetype": "text/x-python",
   "name": "python",
   "nbconvert_exporter": "python",
   "pygments_lexer": "ipython3",
   "version": "3.7.5"
  }
 },
 "nbformat": 4,
 "nbformat_minor": 4
}
