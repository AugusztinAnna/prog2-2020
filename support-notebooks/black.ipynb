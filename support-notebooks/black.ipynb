{
 "cells": [
  {
   "cell_type": "code",
   "execution_count": null,
   "metadata": {},
   "outputs": [],
   "source": [
    "!pip install black"
   ]
  },
  {
   "cell_type": "markdown",
   "metadata": {},
   "source": [
    "[jupyter_contrib_nbextensions](https://github.com/ipython-contrib/jupyter_contrib_nbextensions) - look around, might be some other useful things"
   ]
  },
  {
   "cell_type": "code",
   "execution_count": null,
   "metadata": {},
   "outputs": [],
   "source": [
    "!pip install jupyter_contrib_nbextensions"
   ]
  },
  {
   "cell_type": "code",
   "execution_count": null,
   "metadata": {},
   "outputs": [],
   "source": [
    "!jupyter contrib nbextension install --user"
   ]
  },
  {
   "cell_type": "code",
   "execution_count": 7,
   "metadata": {},
   "outputs": [
    {
     "name": "stdout",
     "output_type": "stream",
     "text": [
      "Downloading: https://github.com/drillan/jupyter-black/archive/master.zip -> /tmp/tmpl0jx7035/master.zip\n",
      "Extracting: /tmp/tmpl0jx7035/master.zip -> /home/borza/.local/share/jupyter/nbextensions\n"
     ]
    }
   ],
   "source": [
    "!jupyter nbextension install https://github.com/drillan/jupyter-black/archive/master.zip --user"
   ]
  },
  {
   "cell_type": "code",
   "execution_count": 8,
   "metadata": {},
   "outputs": [
    {
     "name": "stdout",
     "output_type": "stream",
     "text": [
      "Enabling notebook extension jupyter-black-master/jupyter-black...\r\n",
      "      - Validating: \u001b[32mOK\u001b[0m\r\n"
     ]
    }
   ],
   "source": [
    "!jupyter nbextension enable jupyter-black-master/jupyter-black"
   ]
  },
  {
   "cell_type": "code",
   "execution_count": 15,
   "metadata": {},
   "outputs": [],
   "source": [
    "import pandas as pd\n",
    "import numpy as np"
   ]
  },
  {
   "cell_type": "code",
   "execution_count": 11,
   "metadata": {},
   "outputs": [],
   "source": [
    "d = {\"a\": 3 * 10, \n",
    "         \"g\":[1,2,3,\n",
    "             4,5,6,7,10,\n",
    "             \"x\",\"y\",\"z\"],\n",
    "     \n",
    "\"c\": {\n",
    "    \"f\": (1,2,3,4)}, \"X\": (2,3,3,\"abc\")}"
   ]
  },
  {
   "cell_type": "code",
   "execution_count": null,
   "metadata": {},
   "outputs": [],
   "source": [
    "d = {\n",
    "    \"a\": 3 * 10,\n",
    "    \"g\": [1, 2, 3, 4, 5, 6, 7, 10, \"x\", \"y\", \"z\"],\n",
    "    \"c\": {\"f\": (1, 2, 3, 4)},\n",
    "    \"X\": (2, 3, 3, \"abc\"),\n",
    "}"
   ]
  },
  {
   "cell_type": "code",
   "execution_count": 10,
   "metadata": {},
   "outputs": [],
   "source": [
    "df = pd.DataFrame({\"A\": np.arange(100), \"B\": np.random.rand(100), \n",
    "                   \"N\": np.random.normal(size=100), \"P\": np.random.poisson(20, size=100)})\\\n",
    "       .assign(np = lambda df: df[\"N\"] + df[\"P\"]).sort_values(\"np\", \n",
    "                                                             ascending=False)"
   ]
  },
  {
   "cell_type": "code",
   "execution_count": null,
   "metadata": {},
   "outputs": [],
   "source": [
    "df = (\n",
    "    pd.DataFrame(\n",
    "        {\n",
    "            \"A\": np.arange(100),\n",
    "            \"B\": np.random.rand(100),\n",
    "            \"N\": np.random.normal(size=100),\n",
    "            \"P\": np.random.poisson(20, size=100),\n",
    "        }\n",
    "    )\n",
    "    .assign(np=lambda df: df[\"N\"] + df[\"P\"])\n",
    "    .sort_values(\"np\", ascending=False)\n",
    ")"
   ]
  },
  {
   "cell_type": "code",
   "execution_count": 14,
   "metadata": {},
   "outputs": [
    {
     "name": "stdout",
     "output_type": "stream",
     "text": [
      "5\n",
      "two+three\n"
     ]
    }
   ],
   "source": [
    "def add(\n",
    "        a,  \n",
    "        b   \n",
    "    ):  \n",
    "    return a+b \n",
    "\n",
    "def concatenate(\n",
    "        s1, \n",
    "        s2  \n",
    "    ):                                                                                                     \n",
    "    return '{}+{}'.format(\n",
    "        s1, \n",
    "        s2  \n",
    "    )   \n",
    "\n",
    "print(\n",
    "    add(\n",
    "        2,  \n",
    "        3   \n",
    "        )   \n",
    ")   \n",
    "print(\n",
    "    concatenate(\n",
    "        'two',\n",
    "        'three'\n",
    "    )   \n",
    ") "
   ]
  },
  {
   "cell_type": "code",
   "execution_count": null,
   "metadata": {},
   "outputs": [],
   "source": [
    "def add(a, b):\n",
    "    return a + b\n",
    "\n",
    "\n",
    "def concatenate(s1, s2):\n",
    "    return \"{}+{}\".format(s1, s2)\n",
    "\n",
    "\n",
    "print(add(2, 3))\n",
    "print(concatenate(\"two\", \"three\"))"
   ]
  },
  {
   "cell_type": "code",
   "execution_count": null,
   "metadata": {},
   "outputs": [],
   "source": [
    "def long_func(x, param_one=None, param_two=[], param_three={}, param_four=None, param_five=\"\", param_six=123456):\n",
    "        print(\"This function has several params\")\n",
    "\n",
    "long_func()"
   ]
  },
  {
   "cell_type": "code",
   "execution_count": null,
   "metadata": {},
   "outputs": [],
   "source": [
    "def long_func(\n",
    "    x,\n",
    "    param_one=None,\n",
    "    param_two=[],\n",
    "    param_three={},\n",
    "    param_four=None,\n",
    "    param_five=\"\",\n",
    "    param_six=123456,\n",
    "):\n",
    "    print(\"This function has several params\")\n",
    "\n",
    "\n",
    "long_func()"
   ]
  },
  {
   "cell_type": "code",
   "execution_count": 16,
   "metadata": {},
   "outputs": [],
   "source": [
    "import yaml"
   ]
  },
  {
   "cell_type": "code",
   "execution_count": 23,
   "metadata": {},
   "outputs": [
    {
     "name": "stderr",
     "output_type": "stream",
     "text": [
      "/home/borza/my_venv/lib/python3.7/site-packages/ipykernel_launcher.py:1: YAMLLoadWarning: calling yaml.load() without Loader=... is deprecated, as the default Loader is unsafe. Please read https://msg.pyyaml.org/load for full details.\n",
      "  \"\"\"Entry point for launching an IPython kernel.\n"
     ]
    }
   ],
   "source": [
    "peeps = list(yaml.load(open(\"../results.yaml\")).keys())"
   ]
  },
  {
   "cell_type": "code",
   "execution_count": 24,
   "metadata": {},
   "outputs": [],
   "source": [
    "import random"
   ]
  },
  {
   "cell_type": "code",
   "execution_count": 27,
   "metadata": {},
   "outputs": [
    {
     "data": {
      "text/plain": [
       "(['Peti', 'Bence'], ['Marci', 'Anna'], ['Lentner', 'Ádi'])"
      ]
     },
     "execution_count": 27,
     "metadata": {},
     "output_type": "execute_result"
    }
   ],
   "source": [
    "random.shuffle(peeps)\n",
    "peeps[:2],peeps[2:4],peeps[4:]"
   ]
  }
 ],
 "metadata": {
  "kernelspec": {
   "display_name": "Python 3",
   "language": "python",
   "name": "python3"
  },
  "language_info": {
   "codemirror_mode": {
    "name": "ipython",
    "version": 3
   },
   "file_extension": ".py",
   "mimetype": "text/x-python",
   "name": "python",
   "nbconvert_exporter": "python",
   "pygments_lexer": "ipython3",
   "version": "3.7.5"
  }
 },
 "nbformat": 4,
 "nbformat_minor": 4
}
